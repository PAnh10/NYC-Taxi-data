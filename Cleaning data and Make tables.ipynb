{
  "nbformat": 4,
  "nbformat_minor": 0,
  "metadata": {
    "colab": {
      "provenance": []
    },
    "kernelspec": {
      "name": "python3",
      "display_name": "Python 3"
    },
    "language_info": {
      "name": "python"
    }
  },
  "cells": [
    {
      "cell_type": "code",
      "execution_count": null,
      "metadata": {
        "id": "5llieMU0HKA6"
      },
      "outputs": [],
      "source": [
        "import pandas as pd\n",
        "import numpy as np"
      ]
    },
    {
      "cell_type": "code",
      "source": [
        "df_train = pd.read_parquet('taxi_data.parquet')\n",
        "df_train.head()"
      ],
      "metadata": {
        "colab": {
          "base_uri": "https://localhost:8080/",
          "height": 226
        },
        "id": "ZxwfuyPOHlOS",
        "outputId": "2e58378f-b63f-45fb-c7bd-949041daf633"
      },
      "execution_count": null,
      "outputs": [
        {
          "output_type": "execute_result",
          "data": {
            "text/plain": [
              "   VendorID tpep_pickup_datetime tpep_dropoff_datetime  passenger_count  \\\n",
              "0         1  2023-06-01 00:08:48   2023-06-01 00:29:41              1.0   \n",
              "1         1  2023-06-01 00:15:04   2023-06-01 00:25:18              0.0   \n",
              "2         1  2023-06-01 00:48:24   2023-06-01 01:07:07              1.0   \n",
              "3         2  2023-06-01 00:54:03   2023-06-01 01:17:29              3.0   \n",
              "4         2  2023-06-01 00:18:44   2023-06-01 00:27:18              1.0   \n",
              "\n",
              "   trip_distance  RatecodeID store_and_fwd_flag  PULocationID  DOLocationID  \\\n",
              "0           3.40         1.0                  N           140           238   \n",
              "1           3.40         1.0                  N            50           151   \n",
              "2          10.20         1.0                  N           138            97   \n",
              "3           9.83         1.0                  N           100           244   \n",
              "4           1.17         1.0                  N           137           234   \n",
              "\n",
              "   payment_type  fare_amount  extra  mta_tax  tip_amount  tolls_amount  \\\n",
              "0             1         21.9   3.50      0.5        6.70           0.0   \n",
              "1             1         15.6   3.50      0.5        3.00           0.0   \n",
              "2             1         40.8   7.75      0.5       10.00           0.0   \n",
              "3             1         39.4   1.00      0.5        8.88           0.0   \n",
              "4             1          9.3   1.00      0.5        0.72           0.0   \n",
              "\n",
              "   improvement_surcharge  total_amount  congestion_surcharge  Airport_fee  \n",
              "0                    1.0         33.60                   2.5         0.00  \n",
              "1                    1.0         23.60                   2.5         0.00  \n",
              "2                    1.0         60.05                   0.0         1.75  \n",
              "3                    1.0         53.28                   2.5         0.00  \n",
              "4                    1.0         15.02                   2.5         0.00  "
            ],
            "text/html": [
              "\n",
              "  <div id=\"df-5e8cfca0-d8dd-468e-b225-8f8b3adb2494\" class=\"colab-df-container\">\n",
              "    <div>\n",
              "<style scoped>\n",
              "    .dataframe tbody tr th:only-of-type {\n",
              "        vertical-align: middle;\n",
              "    }\n",
              "\n",
              "    .dataframe tbody tr th {\n",
              "        vertical-align: top;\n",
              "    }\n",
              "\n",
              "    .dataframe thead th {\n",
              "        text-align: right;\n",
              "    }\n",
              "</style>\n",
              "<table border=\"1\" class=\"dataframe\">\n",
              "  <thead>\n",
              "    <tr style=\"text-align: right;\">\n",
              "      <th></th>\n",
              "      <th>VendorID</th>\n",
              "      <th>tpep_pickup_datetime</th>\n",
              "      <th>tpep_dropoff_datetime</th>\n",
              "      <th>passenger_count</th>\n",
              "      <th>trip_distance</th>\n",
              "      <th>RatecodeID</th>\n",
              "      <th>store_and_fwd_flag</th>\n",
              "      <th>PULocationID</th>\n",
              "      <th>DOLocationID</th>\n",
              "      <th>payment_type</th>\n",
              "      <th>fare_amount</th>\n",
              "      <th>extra</th>\n",
              "      <th>mta_tax</th>\n",
              "      <th>tip_amount</th>\n",
              "      <th>tolls_amount</th>\n",
              "      <th>improvement_surcharge</th>\n",
              "      <th>total_amount</th>\n",
              "      <th>congestion_surcharge</th>\n",
              "      <th>Airport_fee</th>\n",
              "    </tr>\n",
              "  </thead>\n",
              "  <tbody>\n",
              "    <tr>\n",
              "      <th>0</th>\n",
              "      <td>1</td>\n",
              "      <td>2023-06-01 00:08:48</td>\n",
              "      <td>2023-06-01 00:29:41</td>\n",
              "      <td>1.0</td>\n",
              "      <td>3.40</td>\n",
              "      <td>1.0</td>\n",
              "      <td>N</td>\n",
              "      <td>140</td>\n",
              "      <td>238</td>\n",
              "      <td>1</td>\n",
              "      <td>21.9</td>\n",
              "      <td>3.50</td>\n",
              "      <td>0.5</td>\n",
              "      <td>6.70</td>\n",
              "      <td>0.0</td>\n",
              "      <td>1.0</td>\n",
              "      <td>33.60</td>\n",
              "      <td>2.5</td>\n",
              "      <td>0.00</td>\n",
              "    </tr>\n",
              "    <tr>\n",
              "      <th>1</th>\n",
              "      <td>1</td>\n",
              "      <td>2023-06-01 00:15:04</td>\n",
              "      <td>2023-06-01 00:25:18</td>\n",
              "      <td>0.0</td>\n",
              "      <td>3.40</td>\n",
              "      <td>1.0</td>\n",
              "      <td>N</td>\n",
              "      <td>50</td>\n",
              "      <td>151</td>\n",
              "      <td>1</td>\n",
              "      <td>15.6</td>\n",
              "      <td>3.50</td>\n",
              "      <td>0.5</td>\n",
              "      <td>3.00</td>\n",
              "      <td>0.0</td>\n",
              "      <td>1.0</td>\n",
              "      <td>23.60</td>\n",
              "      <td>2.5</td>\n",
              "      <td>0.00</td>\n",
              "    </tr>\n",
              "    <tr>\n",
              "      <th>2</th>\n",
              "      <td>1</td>\n",
              "      <td>2023-06-01 00:48:24</td>\n",
              "      <td>2023-06-01 01:07:07</td>\n",
              "      <td>1.0</td>\n",
              "      <td>10.20</td>\n",
              "      <td>1.0</td>\n",
              "      <td>N</td>\n",
              "      <td>138</td>\n",
              "      <td>97</td>\n",
              "      <td>1</td>\n",
              "      <td>40.8</td>\n",
              "      <td>7.75</td>\n",
              "      <td>0.5</td>\n",
              "      <td>10.00</td>\n",
              "      <td>0.0</td>\n",
              "      <td>1.0</td>\n",
              "      <td>60.05</td>\n",
              "      <td>0.0</td>\n",
              "      <td>1.75</td>\n",
              "    </tr>\n",
              "    <tr>\n",
              "      <th>3</th>\n",
              "      <td>2</td>\n",
              "      <td>2023-06-01 00:54:03</td>\n",
              "      <td>2023-06-01 01:17:29</td>\n",
              "      <td>3.0</td>\n",
              "      <td>9.83</td>\n",
              "      <td>1.0</td>\n",
              "      <td>N</td>\n",
              "      <td>100</td>\n",
              "      <td>244</td>\n",
              "      <td>1</td>\n",
              "      <td>39.4</td>\n",
              "      <td>1.00</td>\n",
              "      <td>0.5</td>\n",
              "      <td>8.88</td>\n",
              "      <td>0.0</td>\n",
              "      <td>1.0</td>\n",
              "      <td>53.28</td>\n",
              "      <td>2.5</td>\n",
              "      <td>0.00</td>\n",
              "    </tr>\n",
              "    <tr>\n",
              "      <th>4</th>\n",
              "      <td>2</td>\n",
              "      <td>2023-06-01 00:18:44</td>\n",
              "      <td>2023-06-01 00:27:18</td>\n",
              "      <td>1.0</td>\n",
              "      <td>1.17</td>\n",
              "      <td>1.0</td>\n",
              "      <td>N</td>\n",
              "      <td>137</td>\n",
              "      <td>234</td>\n",
              "      <td>1</td>\n",
              "      <td>9.3</td>\n",
              "      <td>1.00</td>\n",
              "      <td>0.5</td>\n",
              "      <td>0.72</td>\n",
              "      <td>0.0</td>\n",
              "      <td>1.0</td>\n",
              "      <td>15.02</td>\n",
              "      <td>2.5</td>\n",
              "      <td>0.00</td>\n",
              "    </tr>\n",
              "  </tbody>\n",
              "</table>\n",
              "</div>\n",
              "    <div class=\"colab-df-buttons\">\n",
              "\n",
              "  <div class=\"colab-df-container\">\n",
              "    <button class=\"colab-df-convert\" onclick=\"convertToInteractive('df-5e8cfca0-d8dd-468e-b225-8f8b3adb2494')\"\n",
              "            title=\"Convert this dataframe to an interactive table.\"\n",
              "            style=\"display:none;\">\n",
              "\n",
              "  <svg xmlns=\"http://www.w3.org/2000/svg\" height=\"24px\" viewBox=\"0 -960 960 960\">\n",
              "    <path d=\"M120-120v-720h720v720H120Zm60-500h600v-160H180v160Zm220 220h160v-160H400v160Zm0 220h160v-160H400v160ZM180-400h160v-160H180v160Zm440 0h160v-160H620v160ZM180-180h160v-160H180v160Zm440 0h160v-160H620v160Z\"/>\n",
              "  </svg>\n",
              "    </button>\n",
              "\n",
              "  <style>\n",
              "    .colab-df-container {\n",
              "      display:flex;\n",
              "      gap: 12px;\n",
              "    }\n",
              "\n",
              "    .colab-df-convert {\n",
              "      background-color: #E8F0FE;\n",
              "      border: none;\n",
              "      border-radius: 50%;\n",
              "      cursor: pointer;\n",
              "      display: none;\n",
              "      fill: #1967D2;\n",
              "      height: 32px;\n",
              "      padding: 0 0 0 0;\n",
              "      width: 32px;\n",
              "    }\n",
              "\n",
              "    .colab-df-convert:hover {\n",
              "      background-color: #E2EBFA;\n",
              "      box-shadow: 0px 1px 2px rgba(60, 64, 67, 0.3), 0px 1px 3px 1px rgba(60, 64, 67, 0.15);\n",
              "      fill: #174EA6;\n",
              "    }\n",
              "\n",
              "    .colab-df-buttons div {\n",
              "      margin-bottom: 4px;\n",
              "    }\n",
              "\n",
              "    [theme=dark] .colab-df-convert {\n",
              "      background-color: #3B4455;\n",
              "      fill: #D2E3FC;\n",
              "    }\n",
              "\n",
              "    [theme=dark] .colab-df-convert:hover {\n",
              "      background-color: #434B5C;\n",
              "      box-shadow: 0px 1px 3px 1px rgba(0, 0, 0, 0.15);\n",
              "      filter: drop-shadow(0px 1px 2px rgba(0, 0, 0, 0.3));\n",
              "      fill: #FFFFFF;\n",
              "    }\n",
              "  </style>\n",
              "\n",
              "    <script>\n",
              "      const buttonEl =\n",
              "        document.querySelector('#df-5e8cfca0-d8dd-468e-b225-8f8b3adb2494 button.colab-df-convert');\n",
              "      buttonEl.style.display =\n",
              "        google.colab.kernel.accessAllowed ? 'block' : 'none';\n",
              "\n",
              "      async function convertToInteractive(key) {\n",
              "        const element = document.querySelector('#df-5e8cfca0-d8dd-468e-b225-8f8b3adb2494');\n",
              "        const dataTable =\n",
              "          await google.colab.kernel.invokeFunction('convertToInteractive',\n",
              "                                                    [key], {});\n",
              "        if (!dataTable) return;\n",
              "\n",
              "        const docLinkHtml = 'Like what you see? Visit the ' +\n",
              "          '<a target=\"_blank\" href=https://colab.research.google.com/notebooks/data_table.ipynb>data table notebook</a>'\n",
              "          + ' to learn more about interactive tables.';\n",
              "        element.innerHTML = '';\n",
              "        dataTable['output_type'] = 'display_data';\n",
              "        await google.colab.output.renderOutput(dataTable, element);\n",
              "        const docLink = document.createElement('div');\n",
              "        docLink.innerHTML = docLinkHtml;\n",
              "        element.appendChild(docLink);\n",
              "      }\n",
              "    </script>\n",
              "  </div>\n",
              "\n",
              "\n",
              "<div id=\"df-d4ec8925-3953-4e04-ba66-e2637ffcf999\">\n",
              "  <button class=\"colab-df-quickchart\" onclick=\"quickchart('df-d4ec8925-3953-4e04-ba66-e2637ffcf999')\"\n",
              "            title=\"Suggest charts\"\n",
              "            style=\"display:none;\">\n",
              "\n",
              "<svg xmlns=\"http://www.w3.org/2000/svg\" height=\"24px\"viewBox=\"0 0 24 24\"\n",
              "     width=\"24px\">\n",
              "    <g>\n",
              "        <path d=\"M19 3H5c-1.1 0-2 .9-2 2v14c0 1.1.9 2 2 2h14c1.1 0 2-.9 2-2V5c0-1.1-.9-2-2-2zM9 17H7v-7h2v7zm4 0h-2V7h2v10zm4 0h-2v-4h2v4z\"/>\n",
              "    </g>\n",
              "</svg>\n",
              "  </button>\n",
              "\n",
              "<style>\n",
              "  .colab-df-quickchart {\n",
              "      --bg-color: #E8F0FE;\n",
              "      --fill-color: #1967D2;\n",
              "      --hover-bg-color: #E2EBFA;\n",
              "      --hover-fill-color: #174EA6;\n",
              "      --disabled-fill-color: #AAA;\n",
              "      --disabled-bg-color: #DDD;\n",
              "  }\n",
              "\n",
              "  [theme=dark] .colab-df-quickchart {\n",
              "      --bg-color: #3B4455;\n",
              "      --fill-color: #D2E3FC;\n",
              "      --hover-bg-color: #434B5C;\n",
              "      --hover-fill-color: #FFFFFF;\n",
              "      --disabled-bg-color: #3B4455;\n",
              "      --disabled-fill-color: #666;\n",
              "  }\n",
              "\n",
              "  .colab-df-quickchart {\n",
              "    background-color: var(--bg-color);\n",
              "    border: none;\n",
              "    border-radius: 50%;\n",
              "    cursor: pointer;\n",
              "    display: none;\n",
              "    fill: var(--fill-color);\n",
              "    height: 32px;\n",
              "    padding: 0;\n",
              "    width: 32px;\n",
              "  }\n",
              "\n",
              "  .colab-df-quickchart:hover {\n",
              "    background-color: var(--hover-bg-color);\n",
              "    box-shadow: 0 1px 2px rgba(60, 64, 67, 0.3), 0 1px 3px 1px rgba(60, 64, 67, 0.15);\n",
              "    fill: var(--button-hover-fill-color);\n",
              "  }\n",
              "\n",
              "  .colab-df-quickchart-complete:disabled,\n",
              "  .colab-df-quickchart-complete:disabled:hover {\n",
              "    background-color: var(--disabled-bg-color);\n",
              "    fill: var(--disabled-fill-color);\n",
              "    box-shadow: none;\n",
              "  }\n",
              "\n",
              "  .colab-df-spinner {\n",
              "    border: 2px solid var(--fill-color);\n",
              "    border-color: transparent;\n",
              "    border-bottom-color: var(--fill-color);\n",
              "    animation:\n",
              "      spin 1s steps(1) infinite;\n",
              "  }\n",
              "\n",
              "  @keyframes spin {\n",
              "    0% {\n",
              "      border-color: transparent;\n",
              "      border-bottom-color: var(--fill-color);\n",
              "      border-left-color: var(--fill-color);\n",
              "    }\n",
              "    20% {\n",
              "      border-color: transparent;\n",
              "      border-left-color: var(--fill-color);\n",
              "      border-top-color: var(--fill-color);\n",
              "    }\n",
              "    30% {\n",
              "      border-color: transparent;\n",
              "      border-left-color: var(--fill-color);\n",
              "      border-top-color: var(--fill-color);\n",
              "      border-right-color: var(--fill-color);\n",
              "    }\n",
              "    40% {\n",
              "      border-color: transparent;\n",
              "      border-right-color: var(--fill-color);\n",
              "      border-top-color: var(--fill-color);\n",
              "    }\n",
              "    60% {\n",
              "      border-color: transparent;\n",
              "      border-right-color: var(--fill-color);\n",
              "    }\n",
              "    80% {\n",
              "      border-color: transparent;\n",
              "      border-right-color: var(--fill-color);\n",
              "      border-bottom-color: var(--fill-color);\n",
              "    }\n",
              "    90% {\n",
              "      border-color: transparent;\n",
              "      border-bottom-color: var(--fill-color);\n",
              "    }\n",
              "  }\n",
              "</style>\n",
              "\n",
              "  <script>\n",
              "    async function quickchart(key) {\n",
              "      const quickchartButtonEl =\n",
              "        document.querySelector('#' + key + ' button');\n",
              "      quickchartButtonEl.disabled = true;  // To prevent multiple clicks.\n",
              "      quickchartButtonEl.classList.add('colab-df-spinner');\n",
              "      try {\n",
              "        const charts = await google.colab.kernel.invokeFunction(\n",
              "            'suggestCharts', [key], {});\n",
              "      } catch (error) {\n",
              "        console.error('Error during call to suggestCharts:', error);\n",
              "      }\n",
              "      quickchartButtonEl.classList.remove('colab-df-spinner');\n",
              "      quickchartButtonEl.classList.add('colab-df-quickchart-complete');\n",
              "    }\n",
              "    (() => {\n",
              "      let quickchartButtonEl =\n",
              "        document.querySelector('#df-d4ec8925-3953-4e04-ba66-e2637ffcf999 button');\n",
              "      quickchartButtonEl.style.display =\n",
              "        google.colab.kernel.accessAllowed ? 'block' : 'none';\n",
              "    })();\n",
              "  </script>\n",
              "</div>\n",
              "    </div>\n",
              "  </div>\n"
            ]
          },
          "metadata": {},
          "execution_count": 56
        }
      ]
    },
    {
      "cell_type": "code",
      "source": [
        "df_train.columns"
      ],
      "metadata": {
        "id": "TPWssBUAJKtZ",
        "colab": {
          "base_uri": "https://localhost:8080/"
        },
        "outputId": "5cdb34b9-23f0-4970-f937-375a460faed6"
      },
      "execution_count": null,
      "outputs": [
        {
          "output_type": "execute_result",
          "data": {
            "text/plain": [
              "Index(['VendorID', 'tpep_pickup_datetime', 'tpep_dropoff_datetime',\n",
              "       'passenger_count', 'trip_distance', 'RatecodeID', 'store_and_fwd_flag',\n",
              "       'PULocationID', 'DOLocationID', 'payment_type', 'fare_amount', 'extra',\n",
              "       'mta_tax', 'tip_amount', 'tolls_amount', 'improvement_surcharge',\n",
              "       'total_amount', 'congestion_surcharge', 'Airport_fee'],\n",
              "      dtype='object')"
            ]
          },
          "metadata": {},
          "execution_count": 57
        }
      ]
    },
    {
      "cell_type": "code",
      "source": [
        "df_train = df_train.loc[df_train['RatecodeID'] <= 6]"
      ],
      "metadata": {
        "id": "Rde_BbVGM5aw"
      },
      "execution_count": null,
      "outputs": []
    },
    {
      "cell_type": "code",
      "source": [
        "nan_df = df_train[df_train.isna().any(axis = 1)]\n",
        "df_drop = df_train.dropna(subset = ['passenger_count'])\n",
        "nan_df = df_drop[df_drop.isna().any(axis = 1)]\n",
        "df_train = df_drop\n",
        "df_train= df_train[df_train['fare_amount'] > 0]\n",
        "df_train = df_train[df_train['fare_amount'] < 350000]\n",
        "df_train = df_train[df_train['trip_distance'] < 350]\n",
        "df_train = df_train[df_train['trip_distance'] > 0]\n",
        "df_train = df_train[df_train['passenger_count'] < 7]"
      ],
      "metadata": {
        "id": "EGwzX_e4Kc1a"
      },
      "execution_count": null,
      "outputs": []
    },
    {
      "cell_type": "code",
      "source": [
        "df_train = df_train.drop_duplicates().reset_index(drop=True)\n",
        "df_train['trip_id'] = df_train.index"
      ],
      "metadata": {
        "id": "7zcGhvHgcjg5"
      },
      "execution_count": null,
      "outputs": []
    },
    {
      "cell_type": "code",
      "source": [
        "df_train['tpep_pickup_datetime'] = pd.to_datetime(df_train['tpep_pickup_datetime'])\n",
        "df_train['tpep_dropoff_datetime'] = pd.to_datetime(df_train['tpep_dropoff_datetime'])"
      ],
      "metadata": {
        "id": "Q5A4cwv9KcwT"
      },
      "execution_count": null,
      "outputs": []
    },
    {
      "cell_type": "code",
      "source": [
        "datetime_dim = df_train[['tpep_pickup_datetime','tpep_dropoff_datetime']].reset_index(drop = True)\n",
        "datetime_dim['pick_hour'] = datetime_dim['tpep_pickup_datetime'].dt.hour\n",
        "datetime_dim['pick_day'] = datetime_dim['tpep_pickup_datetime'].dt.day\n",
        "datetime_dim['pick_month'] = datetime_dim['tpep_pickup_datetime'].dt.month\n",
        "datetime_dim['pick_year'] = datetime_dim['tpep_pickup_datetime'].dt.year\n",
        "datetime_dim['pick_weekday'] = datetime_dim['tpep_pickup_datetime'].dt.weekday\n",
        "datetime_dim['drop_hour'] = datetime_dim['tpep_pickup_datetime'].dt.hour\n",
        "datetime_dim['drop_day'] = datetime_dim['tpep_pickup_datetime'].dt.day\n",
        "datetime_dim['drop_month'] = datetime_dim['tpep_pickup_datetime'].dt.month\n",
        "datetime_dim['drop_year'] = datetime_dim['tpep_pickup_datetime'].dt.year\n",
        "datetime_dim['drop_weekday'] = datetime_dim['tpep_pickup_datetime'].dt.weekday\n",
        "datetime_dim['datetime_id'] = datetime_dim.index\n",
        "\n",
        "datetime_dim = datetime_dim[['datetime_id', 'tpep_pickup_datetime', 'pick_hour', 'pick_day', 'pick_month', 'pick_year', 'pick_weekday',\n",
        "                             'tpep_dropoff_datetime', 'drop_hour', 'drop_day', 'drop_month', 'drop_year', 'drop_weekday']]"
      ],
      "metadata": {
        "id": "WgrSzA9MIda0"
      },
      "execution_count": null,
      "outputs": []
    },
    {
      "cell_type": "code",
      "source": [
        "datetime_dim.to_parquet('datetime_dim.parquet', index = False)\n"
      ],
      "metadata": {
        "id": "dV4MtnL3JYp4"
      },
      "execution_count": null,
      "outputs": []
    },
    {
      "cell_type": "code",
      "source": [
        "passenger_count_dim = df_train[['passenger_count']].reset_index(drop=True)\n",
        "passenger_count_dim['passenger_count_id'] = passenger_count_dim.index\n",
        "passenger_count_dim = passenger_count_dim[['passenger_count_id','passenger_count']]\n"
      ],
      "metadata": {
        "id": "wRFZeVUblwD4"
      },
      "execution_count": null,
      "outputs": []
    },
    {
      "cell_type": "code",
      "source": [
        "passenger_count_dim.to_parquet('passenger_count_dim.parquet', index = False)"
      ],
      "metadata": {
        "id": "9YE87VouA05u"
      },
      "execution_count": null,
      "outputs": []
    },
    {
      "cell_type": "code",
      "source": [
        "trip_distance_dim = df_train[['trip_distance']].reset_index(drop = True)\n",
        "trip_distance_dim['trip_distance_id'] = trip_distance_dim.index\n",
        "trip_distance_dim = trip_distance_dim[['trip_distance_id','trip_distance']]"
      ],
      "metadata": {
        "id": "feigti9cByMV"
      },
      "execution_count": null,
      "outputs": []
    },
    {
      "cell_type": "code",
      "source": [
        "trip_distance_dim.to_parquet('trip_distance_dim.parquet', index = False)"
      ],
      "metadata": {
        "id": "-bsGuCJ_IFvC"
      },
      "execution_count": null,
      "outputs": []
    },
    {
      "cell_type": "code",
      "source": [
        "rate_code_type = {\n",
        "    1:\"Standard rate\",\n",
        "    2:\"JFK\",\n",
        "    3:\"Newark\",\n",
        "    4:\"Nassau or Westchester\",\n",
        "    5:\"Negotiated fare\",\n",
        "    6:\"Group ride\"\n",
        "}\n",
        "rate_code_dim = df_train[['RatecodeID']].reset_index(drop = True)\n",
        "rate_code_dim['rate_code_id'] = rate_code_dim.index\n",
        "rate_code_dim['rate_code_name'] = rate_code_dim['RatecodeID'].map(rate_code_type)\n",
        "rate_code_dim = rate_code_dim[['rate_code_id', 'RatecodeID','rate_code_name']]"
      ],
      "metadata": {
        "id": "eglmhDpFIPn9"
      },
      "execution_count": null,
      "outputs": []
    },
    {
      "cell_type": "code",
      "source": [
        "rate_code_dim.to_parquet('rate_code_dim.parquet',index = False)\n"
      ],
      "metadata": {
        "id": "V2m2SzO4J2W4"
      },
      "execution_count": null,
      "outputs": []
    },
    {
      "cell_type": "code",
      "source": [
        "payment_type_name = {\n",
        "    1:\"Credit card\",\n",
        "    2:\"Cash\",\n",
        "    3:\"No charge\",\n",
        "    4:\"Dispute\",\n",
        "    5:\"Unknown\",\n",
        "    6:\"Voided trip\"\n",
        "}\n",
        "payment_type_dim = df_train[['payment_type']].reset_index(drop=True)\n",
        "payment_type_dim['payment_type_id'] = payment_type_dim.index\n",
        "payment_type_dim['payment_type_name'] = payment_type_dim['payment_type'].map(payment_type_name)\n",
        "payment_type_dim = payment_type_dim[['payment_type_id','payment_type','payment_type_name']]"
      ],
      "metadata": {
        "id": "wXwJz8WgST0b"
      },
      "execution_count": null,
      "outputs": []
    },
    {
      "cell_type": "code",
      "source": [
        "payment_type_dim.to_parquet('payment_dype_dim.parquet',index = False)"
      ],
      "metadata": {
        "id": "vDMfx0tSTetD"
      },
      "execution_count": null,
      "outputs": []
    },
    {
      "cell_type": "code",
      "source": [
        "pickup_location_dim = df_train[['PULocationID']].reset_index(drop=True)\n",
        "pickup_location_dim['pickup_location_id'] = pickup_location_dim.index\n",
        "pickup_location_dim = pickup_location_dim[['pickup_location_id','PULocationID']]\n",
        "\n",
        "dropoff_location_dim = df_train[['DOLocationID']].reset_index(drop=True)\n",
        "dropoff_location_dim['dropoff_location_id'] = dropoff_location_dim.index\n",
        "dropoff_location_dim = dropoff_location_dim[['dropoff_location_id','DOLocationID']]"
      ],
      "metadata": {
        "id": "yDpr8XAQUfh-"
      },
      "execution_count": null,
      "outputs": []
    },
    {
      "cell_type": "code",
      "source": [
        "pickup_location_dim.to_parquet('pickup_location_dim.parquet',index = False)"
      ],
      "metadata": {
        "id": "nLhNFbueV4Rf"
      },
      "execution_count": null,
      "outputs": []
    },
    {
      "cell_type": "code",
      "source": [
        "dropoff_location_dim.to_parquet('dropoff_location_dim.parquet',index = False)"
      ],
      "metadata": {
        "id": "W_kX21uPYCIm"
      },
      "execution_count": null,
      "outputs": []
    },
    {
      "cell_type": "code",
      "source": [],
      "metadata": {
        "id": "WRyzFpi-YMiw"
      },
      "execution_count": null,
      "outputs": []
    },
    {
      "cell_type": "code",
      "source": [
        "extra_fee_dim = df_train[['extra','mta_tax','tolls_amount', 'improvement_surcharge','congestion_surcharge', 'Airport_fee']].reset_index(drop=True)\n",
        "extra_fee_dim['extra_fee_id'] = extra_fee_dim.index\n",
        "\n",
        "extra_fee_dim = extra_fee_dim[['extra_fee_id', 'extra', 'mta_tax', 'tolls_amount', 'improvement_surcharge', 'congestion_surcharge', 'Airport_fee']]"
      ],
      "metadata": {
        "id": "vwjDOeMPZUpw"
      },
      "execution_count": null,
      "outputs": []
    },
    {
      "cell_type": "code",
      "source": [
        "extra_fee_dim.to_parquet('extra_fee_dim.parquet',index = False)"
      ],
      "metadata": {
        "id": "Gg5_t1eIDDP3"
      },
      "execution_count": null,
      "outputs": []
    },
    {
      "cell_type": "code",
      "source": [
        "fact_table = df_train.merge(passenger_count_dim, left_on='trip_id', right_on='passenger_count_id') \\\n",
        "             .merge(trip_distance_dim, left_on='trip_id', right_on='trip_distance_id') \\\n",
        "             .merge(rate_code_dim, left_on='trip_id', right_on='rate_code_id') \\\n",
        "             .merge(pickup_location_dim, left_on='trip_id', right_on='pickup_location_id') \\\n",
        "             .merge(dropoff_location_dim, left_on='trip_id', right_on='dropoff_location_id')\\\n",
        "             .merge(datetime_dim, left_on='trip_id', right_on='datetime_id') \\\n",
        "             .merge(payment_type_dim, left_on='trip_id', right_on='payment_type_id') \\\n",
        "             .merge(extra_fee_dim, left_on='trip_id', right_on='extra_fee_id')\\\n",
        "             [['trip_id','VendorID', 'datetime_id', 'passenger_count_id',\n",
        "               'trip_distance_id', 'rate_code_id', 'store_and_fwd_flag', 'pickup_location_id', 'dropoff_location_id',\n",
        "               'payment_type_id', 'fare_amount', 'total_amount']]"
      ],
      "metadata": {
        "id": "fLT9L02I2O7_"
      },
      "execution_count": null,
      "outputs": []
    },
    {
      "cell_type": "code",
      "source": [
        "fact_table.to_parquet('fact_table.parquet',index = False)"
      ],
      "metadata": {
        "id": "DEcNsFUm2pns"
      },
      "execution_count": null,
      "outputs": []
    },
    {
      "cell_type": "markdown",
      "source": [],
      "metadata": {
        "id": "RXhMZ8rmvP31"
      }
    },
    {
      "cell_type": "markdown",
      "source": [],
      "metadata": {
        "id": "-tFf-rZMvPw_"
      }
    }
  ]
}